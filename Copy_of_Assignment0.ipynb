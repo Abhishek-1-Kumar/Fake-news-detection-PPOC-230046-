{
  "nbformat": 4,
  "nbformat_minor": 0,
  "metadata": {
    "colab": {
      "provenance": [],
      "include_colab_link": true
    },
    "kernelspec": {
      "name": "python3",
      "display_name": "Python 3"
    },
    "language_info": {
      "name": "python"
    }
  },
  "cells": [
    {
      "cell_type": "markdown",
      "metadata": {
        "id": "view-in-github",
        "colab_type": "text"
      },
      "source": [
        "<a href=\"https://colab.research.google.com/github/Abhishek-1-Kumar/Fake-news-detection-PPOC-230046-/blob/main/Copy_of_Assignment0.ipynb\" target=\"_parent\"><img src=\"https://colab.research.google.com/assets/colab-badge.svg\" alt=\"Open In Colab\"/></a>"
      ]
    },
    {
      "cell_type": "markdown",
      "source": [
        "# Assignment 0\n",
        "**Instrunctions for the assignment** \\\\\n",
        "\n",
        "*   Open Google Colab: Begin by launching Google Colab and creating a new Python notebook.\n",
        "*   Read Comments Carefully: Pay close attention to the comments provided within the codeblocks.\n",
        "\n",
        "\n",
        "*   Code Block Completion: Fill in the codeblocks as per the instructions given in the comments.\n",
        "*   Avoid Copying: Ensure that you understand the concepts and refrain from directly copying code from external sources.\n",
        "\n",
        "\n",
        "*   Execute Codeblocks: Verify that each codeblock runs without errors by executing them.\n",
        "*   Save and Submit: Once you've completed the assignment, save your notebook and follow the submission guidelines provided by your instructor.\n",
        "\n",
        "\n",
        "\n",
        "\n",
        "\n",
        "\n",
        "\n",
        "\n",
        "\n",
        "\n",
        "**Notes:**\n",
        "\n",
        "Encouragement: Take your time to understand the concepts behind each codeblock. This assignment aims to strengthen your Python programming skills. \\\\\n",
        "Good Luck! : If you have any questions or require clarification on any aspect of the instructions, feel free to ask. \\\\\n",
        " \\\\\n",
        "\n",
        "Best wishes for your assignment! These instructions are crafted to provide clarity and guidance as you work through the tasks in Google Colab.\n",
        "\n",
        "\n",
        "\n",
        "\n",
        "\n",
        "\n",
        "\n"
      ],
      "metadata": {
        "id": "U2p472EZsFQh"
      }
    },
    {
      "cell_type": "markdown",
      "source": [
        "## Getting Started\n",
        "Solving these exercises will help make you a better programmer. Solve them in order, because each solution builds scaffolding, working code, and knowledge you can use on future problems. Read the directions carefully, and have fun!\n",
        "\n",
        "\n",
        "\n",
        "*   To save your work to your Google Drive, go to File then \"Save Copy in Drive\".\n",
        "*   Your own work will now appear in your Google Drive account!\n",
        "*   Work on this copy as directed"
      ],
      "metadata": {
        "id": "jGDFomGq3i87"
      }
    },
    {
      "cell_type": "markdown",
      "source": [
        "## What to do when you don't know what to do next\n",
        "- When the exercise asks you to reverse an list, the way forward is to search for \"How to reverse a list in Python\" in your favorite search engine.\n",
        "- When the exercise asks you to check if a number is even, the way forward is to search for \"how to check if a number is even in Python\".\n",
        "- When the exercise has you calculate the area of a circle, the way forward is to search for \"how to calculate the area of a circle in Python\" or \"How to get pi in Python\".\n",
        "\n",
        "😀😀"
      ],
      "metadata": {
        "id": "jZ1hWiMO4TTN"
      }
    },
    {
      "cell_type": "markdown",
      "source": [
        "## Basic Python Exercises"
      ],
      "metadata": {
        "id": "LKjbv4-Mmp3_"
      }
    },
    {
      "cell_type": "markdown",
      "source": [
        "1. Create a new list from two list \\\\\n",
        "list1 = [10, 20, 25, 30, 35] \\\\\n",
        "list2 = [40, 45, 60, 75, 90]"
      ],
      "metadata": {
        "id": "POUIXeAkoAJy"
      }
    },
    {
      "cell_type": "code",
      "source": [
        "list1 = [10, 20, 25, 30, 35]\n",
        "list2 = [40, 45, 60, 75, 90]\n",
        "list3 = list1 + list2\n",
        "print(list3)"
      ],
      "metadata": {
        "id": "083WsOfvmz3k",
        "colab": {
          "base_uri": "https://localhost:8080/"
        },
        "outputId": "25736d64-f966-483b-9467-48d8446ac815"
      },
      "execution_count": 2,
      "outputs": [
        {
          "output_type": "stream",
          "name": "stdout",
          "text": [
            "[10, 20, 25, 30, 35, 40, 45, 60, 75, 90]\n"
          ]
        }
      ]
    },
    {
      "cell_type": "markdown",
      "source": [
        "2. Print multiplication table from 1 to 10"
      ],
      "metadata": {
        "id": "mBuOTb3vo7SY"
      }
    },
    {
      "cell_type": "code",
      "source": [
        "for i in range(1,11):\n",
        "  print(\"Table of\",i)\n",
        "  for j in range(1,11):\n",
        "    print(i*j,end=\" \")\n",
        "  print()"
      ],
      "metadata": {
        "id": "ALdwhW6uqRTB",
        "colab": {
          "base_uri": "https://localhost:8080/"
        },
        "outputId": "a0a094dd-b2df-494b-c158-c86a88fc119b"
      },
      "execution_count": 3,
      "outputs": [
        {
          "output_type": "stream",
          "name": "stdout",
          "text": [
            "Table of 1\n",
            "1 2 3 4 5 6 7 8 9 10 \n",
            "Table of 2\n",
            "2 4 6 8 10 12 14 16 18 20 \n",
            "Table of 3\n",
            "3 6 9 12 15 18 21 24 27 30 \n",
            "Table of 4\n",
            "4 8 12 16 20 24 28 32 36 40 \n",
            "Table of 5\n",
            "5 10 15 20 25 30 35 40 45 50 \n",
            "Table of 6\n",
            "6 12 18 24 30 36 42 48 54 60 \n",
            "Table of 7\n",
            "7 14 21 28 35 42 49 56 63 70 \n",
            "Table of 8\n",
            "8 16 24 32 40 48 56 64 72 80 \n",
            "Table of 9\n",
            "9 18 27 36 45 54 63 72 81 90 \n",
            "Table of 10\n",
            "10 20 30 40 50 60 70 80 90 100 \n"
          ]
        }
      ]
    },
    {
      "cell_type": "markdown",
      "source": [
        "3. Print a downward Half-Pyramid Pattern\n",
        "\n",
        "0 0 0 0 0   \n",
        "0 0 0 0 <br>\n",
        "0 0 0 <br>\n",
        "0 0 <br>\n",
        "0"
      ],
      "metadata": {
        "id": "rXhutUXXqR5x"
      }
    },
    {
      "cell_type": "code",
      "source": [
        "for i in range(5):\n",
        "  for j in range(5-i):\n",
        "    print(0,end=\" \")\n",
        "  print()"
      ],
      "metadata": {
        "id": "U9j7N1nrtw--",
        "colab": {
          "base_uri": "https://localhost:8080/"
        },
        "outputId": "7e3799f0-b334-489c-ad39-7a83247e1822"
      },
      "execution_count": 4,
      "outputs": [
        {
          "output_type": "stream",
          "name": "stdout",
          "text": [
            "0 0 0 0 0 \n",
            "0 0 0 0 \n",
            "0 0 0 \n",
            "0 0 \n",
            "0 \n"
          ]
        }
      ]
    },
    {
      "cell_type": "markdown",
      "source": [
        " 4. Given the following assignment of the vegetables list, add \"tomato\" to the end of the list and sort them in alphabetical order.\\\n",
        "vegetables = [\"eggplant\", \"broccoli\", \"carrot\",\"cauliflower\", \"zucchini\"]"
      ],
      "metadata": {
        "id": "Re-QzSX4ugH-"
      }
    },
    {
      "cell_type": "code",
      "source": [
        "vegetables = [\"eggplant\", \"broccoli\", \"carrot\",\"cauliflower\", \"zucchini\"]\n",
        "vegetables = vegetables + [\"tomato\"]\n",
        "vegetables.sort()\n",
        "print(vegetables)"
      ],
      "metadata": {
        "id": "hnA-2EIDuxEH",
        "colab": {
          "base_uri": "https://localhost:8080/"
        },
        "outputId": "af85660a-3044-484a-bf2e-db9f0790513d"
      },
      "execution_count": 5,
      "outputs": [
        {
          "output_type": "stream",
          "name": "stdout",
          "text": [
            "['broccoli', 'carrot', 'cauliflower', 'eggplant', 'tomato', 'zucchini']\n"
          ]
        }
      ]
    },
    {
      "cell_type": "markdown",
      "source": [
        "5. Write a function definition named is_odd that takes in a number and returns True or False if that number is odd."
      ],
      "metadata": {
        "id": "ARyaOlp8uxix"
      }
    },
    {
      "cell_type": "code",
      "source": [
        "def is_odd(n):\n",
        "  if(n%2==0):\n",
        "    return False\n",
        "  else :\n",
        "    return True\n",
        "\n",
        "print(is_odd(10))"
      ],
      "metadata": {
        "id": "OztCSuVjvACz",
        "colab": {
          "base_uri": "https://localhost:8080/"
        },
        "outputId": "83b1e7e9-47db-40e6-efe3-ec79c6d05423"
      },
      "execution_count": 6,
      "outputs": [
        {
          "output_type": "stream",
          "name": "stdout",
          "text": [
            "False\n"
          ]
        }
      ]
    },
    {
      "cell_type": "markdown",
      "source": [
        "6. Write a function definition named mode that takes in sequence of numbers and returns the most commonly occuring value"
      ],
      "metadata": {
        "id": "GIAo6YfLu_AJ"
      }
    },
    {
      "cell_type": "code",
      "source": [
        "def mode(seq):\n",
        "  seq.sort()\n",
        "  result = seq[0]\n",
        "  check = 1\n",
        "  check2 = 1\n",
        "  for i in range(len(seq)-1):\n",
        "    if(seq[i]==seq[i+1]):\n",
        "      check = check + 1\n",
        "    else:\n",
        "      if(check>check2):\n",
        "        check2 = check\n",
        "        result = seq[i]\n",
        "      check = 1\n",
        "  return result\n",
        "\n",
        "print(mode([2,4,6,7,4,4,5,66,7,6,4,3,2,2,4,2]))"
      ],
      "metadata": {
        "id": "WEikC1aTvXoS",
        "colab": {
          "base_uri": "https://localhost:8080/"
        },
        "outputId": "09149fed-a6b2-4e92-cb75-fdc0fab413cd"
      },
      "execution_count": 7,
      "outputs": [
        {
          "output_type": "stream",
          "name": "stdout",
          "text": [
            "4\n"
          ]
        }
      ]
    },
    {
      "cell_type": "markdown",
      "source": [
        "## Numpy Exercises"
      ],
      "metadata": {
        "id": "AKuHwB0lvZn-"
      }
    },
    {
      "cell_type": "markdown",
      "source": [
        "Exercise 1: Create a 4X2 integer array and Prints its attributes \\\\\n",
        "**Note:** The element must be a type of unsigned int16. \\\\\n",
        "And print the following Attributes: –\n",
        "\n",
        "\n",
        "\n",
        "1.   The shape of an array.\n",
        "2.   Array dimensions.\n",
        "3.   The Length of each element of the array in bytes.\n",
        "\n",
        "\n",
        "\n",
        "\n",
        "\n"
      ],
      "metadata": {
        "id": "8f2ww678vf5S"
      }
    },
    {
      "cell_type": "code",
      "source": [
        "import numpy as np\n",
        "arr = np.array([[1,2,3,4],[5,6,7,8]],dtype= np.uint16)\n",
        "print(arr.shape)\n",
        "print(arr.ndim)\n",
        "print(arr.itemsize)"
      ],
      "metadata": {
        "id": "2YMq_rbcwTeb",
        "colab": {
          "base_uri": "https://localhost:8080/"
        },
        "outputId": "d78c4d16-f7bd-46ad-9739-58f20f00ec22"
      },
      "execution_count": 8,
      "outputs": [
        {
          "output_type": "stream",
          "name": "stdout",
          "text": [
            "(2, 4)\n",
            "2\n",
            "2\n"
          ]
        }
      ]
    },
    {
      "cell_type": "markdown",
      "source": [
        "Exercise 2: Following is the provided numPy array. Return array of items by taking the third column from all rows \\\\\n",
        "sampleArray = numpy.array ( [ [ 11 ,22, 33 ], [ 44, 55, 66 ], [ 77, 88, 99 ] ] )"
      ],
      "metadata": {
        "id": "jLVSC8epw0Wz"
      }
    },
    {
      "cell_type": "code",
      "source": [
        "sampleArray = np.array ( [ [ 11 ,22, 33 ], [ 44, 55, 66 ], [ 77, 88, 99 ] ] )\n",
        "arr = sampleArray[:,2].copy()\n",
        "#arr = sampleArray[:,[2]].copy() #for shape(3,1) or column matrix.\n",
        "print(arr)"
      ],
      "metadata": {
        "id": "UVRODBc1wyjl",
        "colab": {
          "base_uri": "https://localhost:8080/"
        },
        "outputId": "3f7a7fb6-8066-41b1-a614-e9c3f3e38e46"
      },
      "execution_count": 9,
      "outputs": [
        {
          "output_type": "stream",
          "name": "stdout",
          "text": [
            "[33 66 99]\n"
          ]
        }
      ]
    },
    {
      "cell_type": "markdown",
      "source": [
        "Exercise 3: Sort following NumPy array \\\\\n",
        "Case 1: Sort array by the second row \\\\\n",
        "Case 2: Sort the array by the second column"
      ],
      "metadata": {
        "id": "T72G3kpRxESl"
      }
    },
    {
      "cell_type": "code",
      "source": [
        "arr = np.array([[4,5,78,35,3,64,3],[5,6,35,7,45,6,3],\n",
        "                [5,79,9,65,4,68,3]])\n",
        "arr2 = arr.copy()\n",
        "arr[1].sort()\n",
        "print(\"Second row sorted:\")\n",
        "print(arr)\n",
        "print(\"Second column sorted:\")\n",
        "arr2[:,1].sort()\n",
        "print(arr)"
      ],
      "metadata": {
        "id": "kdPN_yoaxULi",
        "colab": {
          "base_uri": "https://localhost:8080/"
        },
        "outputId": "e714a3d1-461a-4bd1-97cf-b5b18b37af87"
      },
      "execution_count": 10,
      "outputs": [
        {
          "output_type": "stream",
          "name": "stdout",
          "text": [
            "Second row sorted:\n",
            "[[ 4  5 78 35  3 64  3]\n",
            " [ 3  5  6  6  7 35 45]\n",
            " [ 5 79  9 65  4 68  3]]\n",
            "Second column sorted:\n",
            "[[ 4  5 78 35  3 64  3]\n",
            " [ 3  5  6  6  7 35 45]\n",
            " [ 5 79  9 65  4 68  3]]\n"
          ]
        }
      ]
    },
    {
      "cell_type": "markdown",
      "source": [
        "## Pandas Exercises\n",
        "In this exercise, we are using Automobile Dataset for data analysis. This Dataset has different characteristics of an auto such as body-style, wheel-base, engine-type, price, mileage, horsepower, etc. \\\\\n",
        "https://pynative.com/wp-content/uploads/2019/01/Automobile_data.csv"
      ],
      "metadata": {
        "id": "RUiLxEnkxXKF"
      }
    },
    {
      "cell_type": "markdown",
      "source": [
        "Exercise 1: From the given dataset print the first and last five rows."
      ],
      "metadata": {
        "id": "Bgvaffg70VqZ"
      }
    },
    {
      "cell_type": "code",
      "source": [
        "import pandas as pd\n",
        "\n",
        "url = \"https://pynative.com/wp-content/uploads/2019/01/Automobile_data.csv\"\n",
        "headers = {'User-Agent': 'Mozilla/5.0'}\n",
        "df = pd.read_csv(url, storage_options={'User-Agent': headers['User-Agent']})\n",
        "print(df.head(),\"\\n\")\n",
        "print(df.tail(),\"\\n\")\n"
      ],
      "metadata": {
        "id": "RT2zrs5y2ZUB",
        "colab": {
          "base_uri": "https://localhost:8080/"
        },
        "outputId": "9a5655ae-569d-4459-9ba2-314e8a43a056"
      },
      "execution_count": 11,
      "outputs": [
        {
          "output_type": "stream",
          "name": "stdout",
          "text": [
            "   index      company   body-style  wheel-base  length engine-type  \\\n",
            "0      0  alfa-romero  convertible        88.6   168.8        dohc   \n",
            "1      1  alfa-romero  convertible        88.6   168.8        dohc   \n",
            "2      2  alfa-romero    hatchback        94.5   171.2        ohcv   \n",
            "3      3         audi        sedan        99.8   176.6         ohc   \n",
            "4      4         audi        sedan        99.4   176.6         ohc   \n",
            "\n",
            "  num-of-cylinders  horsepower  average-mileage    price  \n",
            "0             four         111               21  13495.0  \n",
            "1             four         111               21  16500.0  \n",
            "2              six         154               19  16500.0  \n",
            "3             four         102               24  13950.0  \n",
            "4             five         115               18  17450.0   \n",
            "\n",
            "    index     company body-style  wheel-base  length engine-type  \\\n",
            "56     81  volkswagen      sedan        97.3   171.7         ohc   \n",
            "57     82  volkswagen      sedan        97.3   171.7         ohc   \n",
            "58     86  volkswagen      sedan        97.3   171.7         ohc   \n",
            "59     87       volvo      sedan       104.3   188.8         ohc   \n",
            "60     88       volvo      wagon       104.3   188.8         ohc   \n",
            "\n",
            "   num-of-cylinders  horsepower  average-mileage    price  \n",
            "56             four          85               27   7975.0  \n",
            "57             four          52               37   7995.0  \n",
            "58             four         100               26   9995.0  \n",
            "59             four         114               23  12940.0  \n",
            "60             four         114               23  13415.0   \n",
            "\n"
          ]
        }
      ]
    },
    {
      "cell_type": "markdown",
      "source": [
        "Exercise 2: Replace all column values which contain ?, n.a, or NaN with suitable values and print the updated dataset.:"
      ],
      "metadata": {
        "id": "FB-hfiNh2Z42"
      }
    },
    {
      "cell_type": "code",
      "source": [
        "df.replace('?',np.nan,inplace=True)\n",
        "df.replace('n.a',np.nan,inplace=True)\n",
        "df.interpolate(inplace=True,axis=0)\n",
        "print(df)"
      ],
      "metadata": {
        "id": "n8u7K1cU2x4l",
        "colab": {
          "base_uri": "https://localhost:8080/"
        },
        "outputId": "cfbd0e54-ef07-450a-e8d5-e20fb6ff32d7"
      },
      "execution_count": 12,
      "outputs": [
        {
          "output_type": "stream",
          "name": "stdout",
          "text": [
            "    index      company   body-style  wheel-base  length engine-type  \\\n",
            "0       0  alfa-romero  convertible        88.6   168.8        dohc   \n",
            "1       1  alfa-romero  convertible        88.6   168.8        dohc   \n",
            "2       2  alfa-romero    hatchback        94.5   171.2        ohcv   \n",
            "3       3         audi        sedan        99.8   176.6         ohc   \n",
            "4       4         audi        sedan        99.4   176.6         ohc   \n",
            "..    ...          ...          ...         ...     ...         ...   \n",
            "56     81   volkswagen        sedan        97.3   171.7         ohc   \n",
            "57     82   volkswagen        sedan        97.3   171.7         ohc   \n",
            "58     86   volkswagen        sedan        97.3   171.7         ohc   \n",
            "59     87        volvo        sedan       104.3   188.8         ohc   \n",
            "60     88        volvo        wagon       104.3   188.8         ohc   \n",
            "\n",
            "   num-of-cylinders  horsepower  average-mileage    price  \n",
            "0              four         111               21  13495.0  \n",
            "1              four         111               21  16500.0  \n",
            "2               six         154               19  16500.0  \n",
            "3              four         102               24  13950.0  \n",
            "4              five         115               18  17450.0  \n",
            "..              ...         ...              ...      ...  \n",
            "56             four          85               27   7975.0  \n",
            "57             four          52               37   7995.0  \n",
            "58             four         100               26   9995.0  \n",
            "59             four         114               23  12940.0  \n",
            "60             four         114               23  13415.0  \n",
            "\n",
            "[61 rows x 10 columns]\n"
          ]
        },
        {
          "output_type": "stream",
          "name": "stderr",
          "text": [
            "<ipython-input-12-e045c7791303>:3: FutureWarning: DataFrame.interpolate with object dtype is deprecated and will raise in a future version. Call obj.infer_objects(copy=False) before interpolating instead.\n",
            "  df.interpolate(inplace=True,axis=0)\n"
          ]
        }
      ]
    },
    {
      "cell_type": "markdown",
      "source": [
        "Exercise 5: Count total cars per company and print them\n",
        "\n",
        "\n"
      ],
      "metadata": {
        "id": "67ErI6He2wz6"
      }
    },
    {
      "cell_type": "code",
      "source": [
        "df[\"company\"].value_counts()"
      ],
      "metadata": {
        "id": "8H6ytVXD26Ae",
        "colab": {
          "base_uri": "https://localhost:8080/",
          "height": 617
        },
        "outputId": "8a7e7513-d296-4ba3-9350-fe3de64a818c"
      },
      "execution_count": 13,
      "outputs": [
        {
          "output_type": "execute_result",
          "data": {
            "text/plain": [
              "company\n",
              "toyota           7\n",
              "bmw              6\n",
              "mazda            5\n",
              "nissan           5\n",
              "mercedes-benz    4\n",
              "audi             4\n",
              "volkswagen       4\n",
              "mitsubishi       4\n",
              "chevrolet        3\n",
              "jaguar           3\n",
              "isuzu            3\n",
              "honda            3\n",
              "porsche          3\n",
              "alfa-romero      3\n",
              "dodge            2\n",
              "volvo            2\n",
              "Name: count, dtype: int64"
            ],
            "text/html": [
              "<div>\n",
              "<style scoped>\n",
              "    .dataframe tbody tr th:only-of-type {\n",
              "        vertical-align: middle;\n",
              "    }\n",
              "\n",
              "    .dataframe tbody tr th {\n",
              "        vertical-align: top;\n",
              "    }\n",
              "\n",
              "    .dataframe thead th {\n",
              "        text-align: right;\n",
              "    }\n",
              "</style>\n",
              "<table border=\"1\" class=\"dataframe\">\n",
              "  <thead>\n",
              "    <tr style=\"text-align: right;\">\n",
              "      <th></th>\n",
              "      <th>count</th>\n",
              "    </tr>\n",
              "    <tr>\n",
              "      <th>company</th>\n",
              "      <th></th>\n",
              "    </tr>\n",
              "  </thead>\n",
              "  <tbody>\n",
              "    <tr>\n",
              "      <th>toyota</th>\n",
              "      <td>7</td>\n",
              "    </tr>\n",
              "    <tr>\n",
              "      <th>bmw</th>\n",
              "      <td>6</td>\n",
              "    </tr>\n",
              "    <tr>\n",
              "      <th>mazda</th>\n",
              "      <td>5</td>\n",
              "    </tr>\n",
              "    <tr>\n",
              "      <th>nissan</th>\n",
              "      <td>5</td>\n",
              "    </tr>\n",
              "    <tr>\n",
              "      <th>mercedes-benz</th>\n",
              "      <td>4</td>\n",
              "    </tr>\n",
              "    <tr>\n",
              "      <th>audi</th>\n",
              "      <td>4</td>\n",
              "    </tr>\n",
              "    <tr>\n",
              "      <th>volkswagen</th>\n",
              "      <td>4</td>\n",
              "    </tr>\n",
              "    <tr>\n",
              "      <th>mitsubishi</th>\n",
              "      <td>4</td>\n",
              "    </tr>\n",
              "    <tr>\n",
              "      <th>chevrolet</th>\n",
              "      <td>3</td>\n",
              "    </tr>\n",
              "    <tr>\n",
              "      <th>jaguar</th>\n",
              "      <td>3</td>\n",
              "    </tr>\n",
              "    <tr>\n",
              "      <th>isuzu</th>\n",
              "      <td>3</td>\n",
              "    </tr>\n",
              "    <tr>\n",
              "      <th>honda</th>\n",
              "      <td>3</td>\n",
              "    </tr>\n",
              "    <tr>\n",
              "      <th>porsche</th>\n",
              "      <td>3</td>\n",
              "    </tr>\n",
              "    <tr>\n",
              "      <th>alfa-romero</th>\n",
              "      <td>3</td>\n",
              "    </tr>\n",
              "    <tr>\n",
              "      <th>dodge</th>\n",
              "      <td>2</td>\n",
              "    </tr>\n",
              "    <tr>\n",
              "      <th>volvo</th>\n",
              "      <td>2</td>\n",
              "    </tr>\n",
              "  </tbody>\n",
              "</table>\n",
              "</div><br><label><b>dtype:</b> int64</label>"
            ]
          },
          "metadata": {},
          "execution_count": 13
        }
      ]
    },
    {
      "cell_type": "markdown",
      "source": [
        "## Matplotlib Exercises"
      ],
      "metadata": {
        "id": "OcyPTwrWxdXt"
      }
    },
    {
      "cell_type": "markdown",
      "source": [
        "Use the following CSV file for this exercise. Read this file using Pandas or NumPy or using in-built matplotlib function. \\\\\n",
        "https://pynative.com/wp-content/uploads/2019/01/company_sales_data.csv"
      ],
      "metadata": {
        "id": "f0JDeA8Lxu-8"
      }
    },
    {
      "cell_type": "markdown",
      "source": [
        "Exercise 1: Read Total profit of all months and show it using a line plot \\\\\n",
        "Total profit data provided for each month. Generated line plot must include the following properties: –\n",
        "\n",
        "X label name = Month Number \\\\\n",
        "Y label name = Total profit \\\\\n",
        "\n",
        "\n"
      ],
      "metadata": {
        "id": "zYDZqjEzyoFN"
      }
    },
    {
      "cell_type": "code",
      "source": [
        "import matplotlib.pyplot as plt\n",
        "url = \"https://pynative.com/wp-content/uploads/2019/01/company_sales_data.csv\"\n",
        "headers = {'User-Agent': 'Mozilla/5.0'}\n",
        "df = pd.read_csv(url, storage_options={'User-Agent': headers['User-Agent']})\n",
        "plt.plot(df[\"month_number\"],df[\"total_profit\"])\n",
        "plt.xlabel(\"Month Number\")\n",
        "plt.ylabel(\"Total profit\")\n",
        "plt.show()"
      ],
      "metadata": {
        "id": "wp_s9Dh50MQX",
        "colab": {
          "base_uri": "https://localhost:8080/",
          "height": 449
        },
        "outputId": "35c980fd-db3f-4081-cc84-334eb7b3f7e8"
      },
      "execution_count": 14,
      "outputs": [
        {
          "output_type": "display_data",
          "data": {
            "text/plain": [
              "<Figure size 640x480 with 1 Axes>"
            ],
            "image/png": "[encoded data removed]"
          },
          "metadata": {}
        }
      ]
    },
    {
      "cell_type": "markdown",
      "source": [
        "Exercise : Read face cream and facewash product sales data and show it using the bar chart \\\\\n",
        "The bar chart should display the number of units sold per month for each product. \\\\\n",
        "Add a separate bar for each product in the same chart."
      ],
      "metadata": {
        "id": "muEpI78E0LjF"
      }
    },
    {
      "cell_type": "code",
      "source": [
        "\n",
        "months = df['month_number']\n",
        "face_cream = df['facecream']\n",
        "face_wash = df['facewash']\n",
        "\n",
        "bar_width = 0.3\n",
        "x = np.arange(len(months))\n",
        "\n",
        "plt.figure(figsize=(10, 6))\n",
        "plt.bar(x - bar_width/2, face_cream, width=bar_width, label='Face Cream', color='orange')\n",
        "plt.bar(x + bar_width/2, face_wash, width=bar_width, label='Face Wash', color='red')\n",
        "\n",
        "plt.xlabel('Month Number')\n",
        "plt.ylabel('Units Sold')\n",
        "plt.title('Monthly Sales Data: Face Cream vs Face Wash')\n",
        "plt.xticks(x, months)\n",
        "plt.legend()\n",
        "plt.grid(axis='y', linestyle='--', alpha=0.7)\n",
        "\n",
        "plt.tight_layout()\n",
        "plt.show()\n"
      ],
      "metadata": {
        "id": "JmR3PAE71gIi",
        "colab": {
          "base_uri": "https://localhost:8080/",
          "height": 607
        },
        "outputId": "086fc5a5-e51c-48a2-c3a8-de933c89f52d"
      },
      "execution_count": 21,
      "outputs": [
        {
          "output_type": "display_data",
          "data": {
            "text/plain": [
              "<Figure size 1000x600 with 1 Axes>"
            ],
            "image/png": "[encoded data removed]"
          },
          "metadata": {}
        }
      ]
    }
  ]
}